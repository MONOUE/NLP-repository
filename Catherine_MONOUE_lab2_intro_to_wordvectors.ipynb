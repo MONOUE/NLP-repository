{
  "cells": [
    {
      "cell_type": "markdown",
      "metadata": {
        "id": "view-in-github",
        "colab_type": "text"
      },
      "source": [
        "<a href=\"https://colab.research.google.com/github/MONOUE/NLP-repository/blob/main/Catherine_MONOUE_lab2_intro_to_wordvectors.ipynb\" target=\"_parent\"><img src=\"https://colab.research.google.com/assets/colab-badge.svg\" alt=\"Open In Colab\"/></a>"
      ]
    },
    {
      "cell_type": "markdown",
      "metadata": {
        "id": "lXRITcPxD-qZ"
      },
      "source": [
        "\n",
        "<h1 style=\"font-family:verdana;font-size:300%;text-align:center;background-color:#f2f2f2;color:#0d0d0d\">AMMI NLP - Review sessions</h1>\n",
        "\n",
        "<h1 style=\"font-family:verdana;font-size:180%;text-align:Center;color:#993333\"> Lab 2: Introduction to wordvectors </h1>"
      ]
    },
    {
      "cell_type": "markdown",
      "metadata": {
        "id": "6A0D3RVbD-qb"
      },
      "source": [
        "**Big thanks to Amr Khalifa who improved this lab and made it to a Jupyter Notebook!**"
      ]
    },
    {
      "cell_type": "code",
      "execution_count": 59,
      "metadata": {
        "id": "EPG7pocDD-qc"
      },
      "outputs": [],
      "source": [
        "import io, sys\n",
        "import numpy as np"
      ]
    },
    {
      "cell_type": "code",
      "execution_count": null,
      "metadata": {
        "id": "9uGrBPDiD-qc"
      },
      "outputs": [],
      "source": [
        "def load_vectors(filename):\n",
        "    fin = io.open(filename, 'r', encoding='utf-8', newline='\\n')\n",
        "    n, d = map(int, fin.readline().split())\n",
        "    data = {}\n",
        "    for line in fin:\n",
        "        tokens = line.rstrip().split(' ')\n",
        "        data[tokens[0]] = np.asarray([float(x) for x in tokens[1:]])\n",
        "    return data"
      ]
    },
    {
      "cell_type": "code",
      "execution_count": null,
      "metadata": {
        "colab": {
          "base_uri": "https://localhost:8080/"
        },
        "id": "uKdIWbdtFsQo",
        "outputId": "e54c6a73-7f95-40b9-be0c-af4c140ad39b"
      },
      "outputs": [
        {
          "name": "stdout",
          "output_type": "stream",
          "text": [
            "Mounted at /content/drive\n"
          ]
        }
      ],
      "source": [
        "from google.colab import drive\n",
        "drive.mount('/content/drive')"
      ]
    },
    {
      "cell_type": "code",
      "execution_count": null,
      "metadata": {
        "colab": {
          "base_uri": "https://localhost:8080/"
        },
        "id": "3G6GHc23D-qd",
        "outputId": "920ddba6-3ee4-4caa-f77a-966fbf26ecc4"
      },
      "outputs": [
        {
          "name": "stdout",
          "output_type": "stream",
          "text": [
            "\n",
            " ** Word vectors ** \n",
            "\n",
            "<class 'numpy.ndarray'> 300\n"
          ]
        }
      ],
      "source": [
        "# Loading word vectors\n",
        "\n",
        "print('')\n",
        "print(' ** Word vectors ** ')\n",
        "print('')\n",
        "\n",
        "'''\n",
        "word_vectors is a dictionary that maps words to their numerical word vector\n",
        "[word (string)] = [np-array] \n",
        "'''\n",
        "word_vectors = load_vectors('/content/drive/MyDrive/session2/wiki.en.vec')\n",
        "\n",
        "tree_vector = word_vectors['tree']\n",
        "print(type(tree_vector), len(tree_vector))"
      ]
    },
    {
      "cell_type": "code",
      "execution_count": null,
      "metadata": {
        "id": "SxTu0ysMD-qd"
      },
      "outputs": [],
      "source": [
        "## This function computes the cosine similarity between vectors u and v\n",
        "\n",
        "def cosine(u, v):\n",
        "    '''\n",
        "    Parameters:\n",
        "    u : 1-D numpy array\n",
        "    v : 1-D numpy array \n",
        "    \n",
        "    Returns:\n",
        "    cos (float) : value of the cosine similairy between vectors u, v \n",
        "    '''\n",
        "\n",
        "    ## FILL CODE\n",
        "    cos=np.sum(u*v)/(np.sum(u*u)* np.sum(v*v))**0.5\n",
        "    \n",
        "    return cos\n"
      ]
    },
    {
      "cell_type": "code",
      "execution_count": null,
      "metadata": {
        "colab": {
          "base_uri": "https://localhost:8080/"
        },
        "id": "6HJrXqZND-qd",
        "outputId": "ef8e2272-b0ad-4cbd-c0b7-6d2f9e6adce2"
      },
      "outputs": [
        {
          "name": "stdout",
          "output_type": "stream",
          "text": [
            "similarity(apple, apples) = 0.637\n",
            "similarity(apple, banana) = 0.431\n",
            "similarity(apple, tiger) = 0.212\n"
          ]
        }
      ],
      "source": [
        "# compute similarity between words\n",
        "\n",
        "print('similarity(apple, apples) = %.3f' %\n",
        "      cosine(word_vectors['apple'], word_vectors['apples']))\n",
        "print('similarity(apple, banana) = %.3f' %\n",
        "      cosine(word_vectors['apple'], word_vectors['banana']))\n",
        "print('similarity(apple, tiger) = %.3f' %\n",
        "      cosine(word_vectors['apple'], word_vectors['tiger']))"
      ]
    },
    {
      "cell_type": "code",
      "execution_count": null,
      "metadata": {
        "id": "pE4wdcWrD-qe"
      },
      "outputs": [],
      "source": [
        "## Functions for nearest neighbor\n",
        "## This function returns the word corresponding to \n",
        "## nearest neighbor vector of x\n",
        "## The list exclude_words can be used to exclude some\n",
        "## words from the nearest neighbors search\n",
        "\n",
        "def nearest_neighbor(x, word_vectors, exclude_words=[]):\n",
        "    '''\n",
        "    Parameters:\n",
        "    x (string): word to find its nearest neighbour \n",
        "    word_vectors (Python dict): {word (string): np-array of word vector}\n",
        "    exclude_words (list of strings): words to be excluded from the search\n",
        "    \n",
        "    Returns:\n",
        "    best_word (string) : the word whose word vector is the nearest neighbour \n",
        "    to the word vector of x\n",
        "    '''\n",
        "    best_score = -1.0\n",
        "    best_word = None\n",
        "    ## FILL CODE\n",
        "    for word in word_vectors.keys():\n",
        "      score=cosine(word_vectors[word],x)\n",
        "      if best_score<score and word not in exclude_words:\n",
        "        best_score=score\n",
        "        best_word= word\n",
        "       \n",
        "    return best_word"
      ]
    },
    {
      "cell_type": "code",
      "execution_count": null,
      "metadata": {
        "colab": {
          "base_uri": "https://localhost:8080/"
        },
        "id": "l9ZI1ifyD-qe",
        "outputId": "c0686100-a84a-4a32-f510-3a0a9757e087"
      },
      "outputs": [
        {
          "name": "stdout",
          "output_type": "stream",
          "text": [
            "\n",
            "The nearest neighbor of cat is: dog\n"
          ]
        }
      ],
      "source": [
        "print('')\n",
        "print('The nearest neighbor of cat is: ' +\n",
        "      nearest_neighbor(word_vectors['cat'], word_vectors, exclude_words = ['cat', 'cats']))"
      ]
    },
    {
      "cell_type": "markdown",
      "metadata": {
        "id": "SFG845HZD-qe"
      },
      "source": [
        "#### Hint (using python priorty queues with the heapq datastructure): \n",
        "if you don't want to store all the words and scores you can use the priortiy queue and only store the best K element so far. "
      ]
    },
    {
      "cell_type": "code",
      "execution_count": null,
      "metadata": {
        "id": "9uKSNA70D-qf"
      },
      "outputs": [],
      "source": [
        "\n",
        "## This function return the words corresponding to the\n",
        "## K nearest neighbors of vector x.\n",
        "## You can use the functions heappush and heappop.\n",
        "import heapq\n",
        "def knn(x, vectors, k):\n",
        "    '''\n",
        "    Parameters:\n",
        "    x (string): word to find its nearest neighbour \n",
        "    word_vectors (Python dict): {word (string): np-array of word vector}\n",
        "    k (int): number of nearest neighbours to be found\n",
        "    \n",
        "    Returns: \n",
        "    k_nearest_neighbors (list of tuples): [(score, word), (score, word), ....]\n",
        "    '''\n",
        "\n",
        "    k_nearest_neighbors =[]\n",
        "    heapq.heapify(k_nearest_neighbors) \n",
        "    ## FILL CODE\n",
        "    for word in vectors.keys():\n",
        "      if len(k_nearest_neighbors)<k:\n",
        "        heapq.heappush(k_nearest_neighbors,(cosine(vectors[word],x),word))\n",
        "\n",
        "      else:\n",
        "        heapq.heappush(k_nearest_neighbors,(cosine(vectors[word],x),word))\n",
        "        heapq.heappop(k_nearest_neighbors)\n",
        "    \n",
        "    return k_nearest_neighbors"
      ]
    },
    {
      "cell_type": "code",
      "execution_count": null,
      "metadata": {
        "colab": {
          "base_uri": "https://localhost:8080/"
        },
        "id": "2jKQYdfcD-qf",
        "outputId": "f4114519-9e38-420e-dbc7-30f86556c167"
      },
      "outputs": [
        {
          "name": "stdout",
          "output_type": "stream",
          "text": [
            "\n",
            "cat\n",
            "--------------\n",
            "rabbit\t0.549\n",
            "dog\t0.638\n",
            "pet\t0.573\n",
            "cats\t0.732\n",
            "cat\t1.000\n"
          ]
        }
      ],
      "source": [
        "knn_cat = knn(word_vectors['cat'], word_vectors, 5)\n",
        "print('')\n",
        "print('cat')\n",
        "print('--------------')\n",
        "for score, word in knn(word_vectors['cat'], word_vectors, 5):\n",
        "    print (word + '\\t%.3f' % score)\n"
      ]
    },
    {
      "cell_type": "markdown",
      "metadata": {
        "id": "N4abExmJD-qf"
      },
      "source": [
        "#### Hint: \n",
        "To find the analogies, we find the nearest neighbour associated with the wordvector d\n",
        "$$ d = \\frac{c}{\\Vert {c} \\Vert} + \\frac{b}{\\Vert {b} \\Vert} - \\frac{a}{\\Vert {a} \\Vert}$$\n"
      ]
    },
    {
      "cell_type": "code",
      "execution_count": null,
      "metadata": {
        "id": "MR572VQwD-qf"
      },
      "outputs": [],
      "source": [
        "## This function return the words d, such that a:b and c:d\n",
        "## verifies the same relation\n",
        "\n",
        "def analogy(a, b, c, word_vectors):\n",
        "    '''\n",
        "    Parameters:\n",
        "    a (string): word a\n",
        "    b (string): word b\n",
        "    c (string): word c\n",
        "    word_vectors (Python dict): {word (string): np-array of word vector}\n",
        "    \n",
        "    Returnrs: \n",
        "    the word d (string) associated with c such that c:d is similar to a:b \n",
        "    \n",
        "    '''\n",
        "    word_vectors[c]\n",
        "    ## FILL CODE\n",
        "    d= word_vectors[c]/np.sum(word_vectors[c]*word_vectors[c])**0.5 + word_vectors[b]/np.sum(word_vectors[b]*word_vectors[b])**0.5 -word_vectors[a]/np.sum(word_vectors[a]*word_vectors[a])**0.5\n",
        "\n",
        "    return  nearest_neighbor(d, word_vectors)"
      ]
    },
    {
      "cell_type": "code",
      "execution_count": null,
      "metadata": {
        "colab": {
          "base_uri": "https://localhost:8080/"
        },
        "id": "k3esmfj4D-qg",
        "outputId": "9019dd09-05cf-4527-c388-dea8c1259dc6"
      },
      "outputs": [
        {
          "name": "stdout",
          "output_type": "stream",
          "text": [
            "\n",
            "france - paris + rome = italy\n"
          ]
        }
      ],
      "source": [
        "# Word analogies\n",
        "\n",
        "print('')\n",
        "print('france - paris + rome = ' + analogy('paris', 'france', 'rome', word_vectors))"
      ]
    },
    {
      "cell_type": "markdown",
      "metadata": {
        "id": "f0I9IQWmD-qg"
      },
      "source": [
        "## A word about biases in word vectors"
      ]
    },
    {
      "cell_type": "code",
      "execution_count": null,
      "metadata": {
        "colab": {
          "base_uri": "https://localhost:8080/"
        },
        "id": "aFjfxsmyD-qg",
        "outputId": "24c9c4a0-d9dc-487c-9dfc-6bee64dfad00"
      },
      "outputs": [
        {
          "name": "stdout",
          "output_type": "stream",
          "text": [
            "\n",
            "similarity(genius, man) = 0.445\n",
            "similarity(genius, woman) = 0.325\n"
          ]
        }
      ],
      "source": [
        "## A word about biases in word vectors:\n",
        "\n",
        "print('')\n",
        "print('similarity(genius, man) = %.3f' %\n",
        "      cosine(word_vectors['man'], word_vectors['genius']))\n",
        "print('similarity(genius, woman) = %.3f' %\n",
        "      cosine(word_vectors['woman'], word_vectors['genius']))"
      ]
    },
    {
      "cell_type": "code",
      "execution_count": null,
      "metadata": {
        "id": "KxUQ82otD-qg"
      },
      "outputs": [],
      "source": [
        "## Compute the association strength between:\n",
        "##   - a word w\n",
        "##   - two sets of attributes A and B\n",
        "\n",
        "def association_strength(w, A, B, vectors):\n",
        "    '''\n",
        "    Parameters:\n",
        "    w (string): word w\n",
        "    A (list of strings): The words belonging to set A\n",
        "    B (list of strings): The words belonging to set B\n",
        "    vectors (Python dict): {word (string): np-array of word vector}\n",
        "    \n",
        "    Returnrs: \n",
        "    strength (float): the value of the association strength \n",
        "    '''\n",
        "    \n",
        "    strength = 0.0\n",
        "    part_a =0.0\n",
        "    part_b = 0.0\n",
        " \n",
        "    \n",
        "    ## FILL CODE\n",
        "    part_a = sum([cosine(vectors[item],vectors[w]) for item in A])/ len(A)\n",
        "    part_b = sum([cosine(vectors[item],vectors[w]) for item in B])/len(B)\n",
        "    strength=part_a-part_b\n",
        "    return strength"
      ]
    },
    {
      "cell_type": "code",
      "execution_count": null,
      "metadata": {
        "id": "jCnwghXHD-qg"
      },
      "outputs": [],
      "source": [
        "## Perform the word embedding association test between:\n",
        "##   - two sets of words X and Y\n",
        "##   - two sets of attributes A and B\n",
        "\n",
        "def weat(X, Y, A, B, vectors):\n",
        "    '''\n",
        "    Parameters:\n",
        "    X (list of strings): The words belonging to set X\n",
        "    Y (list of strings): The words belonging to set Y\n",
        "    A (list of strings): The words belonging to set A\n",
        "    B (list of strings): The words belonging to set B\n",
        "    vectors (Python dict): {word (string): np-array of word vector}\n",
        "    \n",
        "    Returns: \n",
        "    score (float): the value of the group association strength  \n",
        "    '''\n",
        "    \n",
        "    score = 0.0\n",
        "    \n",
        "    ## FILL CODE\n",
        "    score = sum([association_strength(w, A, B, vectors) for w in X] )-sum([association_strength(w, A, B, vectors)  for w in Y])\n",
        "\n",
        "\n",
        "    return score"
      ]
    },
    {
      "cell_type": "code",
      "execution_count": null,
      "metadata": {
        "colab": {
          "base_uri": "https://localhost:8080/"
        },
        "id": "EbEoKG7LD-qh",
        "outputId": "97f2080e-45a4-4e80-9347-be01bef94442"
      },
      "outputs": [
        {
          "name": "stdout",
          "output_type": "stream",
          "text": [
            "\n",
            "Word embedding association test: 0.847\n"
          ]
        }
      ],
      "source": [
        "## Replicate one of the experiments from:\n",
        "##\n",
        "## Semantics derived automatically from language corpora contain human-like biases\n",
        "## Caliskan, Bryson, Narayanan (2017)\n",
        "\n",
        "career = ['executive', 'management', 'professional', 'corporation', \n",
        "          'salary', 'office', 'business', 'career']\n",
        "family = ['home', 'parents', 'children', 'family',\n",
        "          'cousins', 'marriage', 'wedding', 'relatives']\n",
        "male = ['john', 'paul', 'mike', 'kevin', 'steve', 'greg', 'jeff', 'bill']\n",
        "female = ['amy', 'joan', 'lisa', 'sarah', 'diana', 'kate', 'ann', 'donna']\n",
        "\n",
        "print('')\n",
        "print('Word embedding association test: %.3f' %\n",
        "      weat(career, family, male, female, word_vectors))"
      ]
    },
    {
      "cell_type": "markdown",
      "metadata": {
        "id": "7kg01D_XD-qh"
      },
      "source": [
        "## Word translation using word vectors\n",
        "\n",
        "In the following, we will use word vectors in English and French to translate words from English to French. The idea is to learn a linear function that maps English word vectors to their correponding French word vectors. To learn this linear mapping, we will use a small bilingual lexicon, that contains pairs of words in English and French that are translations of each other.\n",
        "\n",
        "The following function will load the small English-French bilingual lexicon:"
      ]
    },
    {
      "cell_type": "code",
      "execution_count": null,
      "metadata": {
        "id": "YMw0YhTFD-qh"
      },
      "outputs": [],
      "source": [
        "def load_lexicon(filename):\n",
        "    '''\n",
        "    Parameters:\n",
        "    filename(string): the path of the lexicon\n",
        "    \n",
        "    Returns:\n",
        "    data(list of pairs of string): the bilingual lexicon\n",
        "    '''\n",
        "    fin = io.open(filename, 'r', encoding='utf-8', newline='\\n')\n",
        "    data = []\n",
        "    for line in fin:\n",
        "        a, b = line.rstrip().split(' ')\n",
        "        data.append((a, b))\n",
        "    return data"
      ]
    },
    {
      "cell_type": "code",
      "execution_count": null,
      "metadata": {
        "colab": {
          "base_uri": "https://localhost:8080/"
        },
        "id": "-WydgldtD-qh",
        "outputId": "a2235803-0595-4eeb-f893-f892f96ffe16"
      },
      "outputs": [
        {
          "name": "stdout",
          "output_type": "stream",
          "text": [
            "[('the', 'le'), ('the', 'les'), ('the', 'la'), ('and', 'et'), ('was', 'fut')]\n"
          ]
        }
      ],
      "source": [
        "word_vectors_en = load_vectors('/content/drive/MyDrive/session2/wiki.en.vec')\n",
        "word_vectors_fr = load_vectors('/content/drive/MyDrive/session2/wiki.fr.vec')\n",
        "lexicon = load_lexicon(\"/content/drive/MyDrive/session2/lexicon-en-fr.txt\")\n",
        "print(lexicon[:5])"
      ]
    },
    {
      "cell_type": "code",
      "execution_count": 80,
      "metadata": {
        "id": "GnaJSsPSD-qh"
      },
      "outputs": [],
      "source": [
        "# We split the lexicon into a train and validation set\n",
        "train = lexicon[:5000]\n",
        "valid = lexicon[5000:5100]"
      ]
    },
    {
      "cell_type": "markdown",
      "metadata": {
        "id": "vzYgMXxxD-qi"
      },
      "source": [
        "The following function will learn the mapping from English to French. The idea is to build two matrices $X_{\\text{en}}$ and $X_{\\text{fr}}$, and to find a mapping $M$ that minimizes $||X_{\\text{en}} W - X_{\\text{fr}} ||_2$. In numpy, this mapping can be obtained by using the `numpy.linalg.lstsq` function."
      ]
    },
    {
      "cell_type": "code",
      "execution_count": 78,
      "metadata": {
        "id": "NQ6GtU85D-qi"
      },
      "outputs": [],
      "source": [
        "def align(word_vectors_en, word_vectors_fr, lexicon):\n",
        "    '''\n",
        "    Parameters:\n",
        "    word_vectors_en(dict: string -> np.array): English word vectors\n",
        "    word_vectors_en(dict: string -> np.array): French word vectors\n",
        "    lexicon(list of pairs of string): bilingual training lexicon\n",
        "    \n",
        "    Returns\n",
        "    mapping(np.array): the mapping from English to French vectors\n",
        "    '''\n",
        "    x_en, x_fr = [], []\n",
        "    \n",
        "    ## FILL CODE\n",
        "    for a,b in lexicon:\n",
        "      x_en.append(word_vectors_en[a])\n",
        "      x_fr.append(word_vectors_fr[b])\n",
        "\n",
        "    x_en=np.array(x_en)\n",
        "    x_fr=np.array(x_fr)\n",
        "\n",
        "    return np.linalg.lstsq(x_en,x_fr)"
      ]
    },
    {
      "cell_type": "code",
      "execution_count": 79,
      "metadata": {
        "colab": {
          "base_uri": "https://localhost:8080/"
        },
        "id": "PIIRvmAcD-qi",
        "outputId": "1a93e721-840f-4b94-8eee-a53c2a283624"
      },
      "outputs": [
        {
          "output_type": "stream",
          "name": "stderr",
          "text": [
            "/usr/local/lib/python3.7/dist-packages/ipykernel_launcher.py:21: FutureWarning: `rcond` parameter will change to the default of machine precision times ``max(M, N)`` where M and N are the input matrix dimensions.\n",
            "To use the future default and silence this warning we advise to pass `rcond=None`, to keep using the old, explicitly pass `rcond=-1`.\n"
          ]
        }
      ],
      "source": [
        "mapping = align(word_vectors_en, word_vectors_fr, train)"
      ]
    },
    {
      "cell_type": "code",
      "execution_count": 85,
      "metadata": {
        "colab": {
          "base_uri": "https://localhost:8080/"
        },
        "id": "ylBFPhrj2CHE",
        "outputId": "8562af4a-70a4-4d37-f299-ef832e398c35"
      },
      "outputs": [
        {
          "output_type": "execute_result",
          "data": {
            "text/plain": [
              "(300, 300)"
            ]
          },
          "metadata": {},
          "execution_count": 85
        }
      ],
      "source": [
        "mapping[0].shape"
      ]
    },
    {
      "cell_type": "markdown",
      "metadata": {
        "id": "LvEl63RRD-qi"
      },
      "source": [
        "Given a mapping, a set of word English word vector and French word vectors, the next function will translate the English word to French. To do so, we apply the mapping on the English word, and retrieve the nearest neighbor of the obtained vector in the set of French word vectors. The translation is then the corresponding French word."
      ]
    },
    {
      "cell_type": "code",
      "execution_count": 87,
      "metadata": {
        "id": "QfCTPKIiD-qi"
      },
      "outputs": [],
      "source": [
        "def translate(word, word_vectors_en, word_vectors_fr, mapping):\n",
        "    '''\n",
        "    Parameters:\n",
        "    word(string): an English word\n",
        "    word_vectors_en(dict: string -> np.array): English word vectors\n",
        "    word_vectors_en(dict: string -> np.array): French word vectors\n",
        "    mapping(np.array): the mapping from English to French vectors\n",
        "    \n",
        "    Returns\n",
        "    A string containing the translation of the English word\n",
        "    '''\n",
        "    \n",
        "    ## FILL CODE\n",
        "    trans= word_vectors_en[word]@ mapping[0] \n",
        "    \n",
        "\n",
        "    return nearest_neighbor(trans, word_vectors_fr)"
      ]
    },
    {
      "cell_type": "code",
      "source": [
        "len(word_vectors_en[\"world\"])"
      ],
      "metadata": {
        "colab": {
          "base_uri": "https://localhost:8080/"
        },
        "id": "hqDrVwoqEYqd",
        "outputId": "af934101-d9ad-4086-88e8-5accc542ee03"
      },
      "execution_count": 86,
      "outputs": [
        {
          "output_type": "execute_result",
          "data": {
            "text/plain": [
              "300"
            ]
          },
          "metadata": {},
          "execution_count": 86
        }
      ]
    },
    {
      "cell_type": "code",
      "execution_count": 88,
      "metadata": {
        "colab": {
          "base_uri": "https://localhost:8080/"
        },
        "id": "Vu5U6gvVD-qi",
        "outputId": "fd004a00-75de-4e0a-9031-ec2278d662c7"
      },
      "outputs": [
        {
          "output_type": "stream",
          "name": "stdout",
          "text": [
            "monde\n",
            "machine\n",
            "apprentissage\n"
          ]
        }
      ],
      "source": [
        "print(translate(\"world\", word_vectors_en, word_vectors_fr, mapping))\n",
        "print(translate(\"machine\", word_vectors_en, word_vectors_fr, mapping))\n",
        "print(translate(\"learning\", word_vectors_en, word_vectors_fr, mapping))"
      ]
    },
    {
      "cell_type": "markdown",
      "metadata": {
        "id": "xaAhkI-TD-qi"
      },
      "source": [
        "Finally, let's implement a function to evaluate this method on the validation lexicon:"
      ]
    },
    {
      "cell_type": "code",
      "execution_count": 89,
      "metadata": {
        "id": "oN2qJuEuD-qj"
      },
      "outputs": [],
      "source": [
        "def evaluate(valid, word_vectors_en, word_vectors_fr, mapping):\n",
        "    '''\n",
        "    Parameters:\n",
        "    valid(a list of pairs of string): the validation lexicon\n",
        "    word_vectors_en(dict: string -> np.array): English word vectors\n",
        "    word_vectors_en(dict: string -> np.array): French word vectors\n",
        "    mapping(np.array): the mapping from English to French vectors\n",
        "    \n",
        "    Returns\n",
        "    Accuracy(float): the accuracy on the validation lexicon\n",
        "    '''\n",
        "   \n",
        "    acc, n = 0.0, 0\n",
        "    n =len(valid)\n",
        "    ## FILL CODE\n",
        "    for word_en,word_fr in valid:\n",
        "      if translate (word_en, word_vectors_en, word_vectors_fr, mapping)==word_fr:\n",
        "         acc+=1\n",
        "\n",
        "    return acc/n"
      ]
    },
    {
      "cell_type": "code",
      "execution_count": 90,
      "metadata": {
        "colab": {
          "base_uri": "https://localhost:8080/"
        },
        "id": "sV7L3vyDD-qj",
        "outputId": "587ccf77-f8fd-4f0f-b9e8-731e97aeabfa"
      },
      "outputs": [
        {
          "output_type": "execute_result",
          "data": {
            "text/plain": [
              "0.64"
            ]
          },
          "metadata": {},
          "execution_count": 90
        }
      ],
      "source": [
        "evaluate(valid, word_vectors_en, word_vectors_fr, mapping)"
      ]
    },
    {
      "cell_type": "code",
      "execution_count": null,
      "metadata": {
        "id": "Fbn1D0cDD-qj"
      },
      "outputs": [],
      "source": [
        ""
      ]
    }
  ],
  "metadata": {
    "colab": {
      "collapsed_sections": [],
      "name": "Catherine MONOUE_lab2 intro_to_wordvectors.ipynb",
      "provenance": [],
      "include_colab_link": true
    },
    "kernelspec": {
      "display_name": "Python 3",
      "language": "python",
      "name": "python3"
    },
    "language_info": {
      "codemirror_mode": {
        "name": "ipython",
        "version": 3
      },
      "file_extension": ".py",
      "mimetype": "text/x-python",
      "name": "python",
      "nbconvert_exporter": "python",
      "pygments_lexer": "ipython3",
      "version": "3.6.2+"
    }
  },
  "nbformat": 4,
  "nbformat_minor": 0
}